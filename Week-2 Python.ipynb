{
 "cells": [
  {
   "cell_type": "code",
   "execution_count": 1,
   "id": "504ec8ab",
   "metadata": {},
   "outputs": [
    {
     "name": "stdout",
     "output_type": "stream",
     "text": [
      "5 \n",
      "4 4 \n",
      "3 3 3 \n",
      "2 2 2 2 \n",
      "1 1 1 1 1 \n"
     ]
    }
   ],
   "source": [
    "# 1. Print the below triangle using for loop.\n",
    "# 5\n",
    "# 4 4\n",
    "# 3 3 3\n",
    "# 2 2 2 2\n",
    "# 1 1 1 1 1\n",
    "for i in range(5,0,-1):\n",
    "  for j in range(6-i):\n",
    "      print(i,end=\" \")\n",
    "  print(\"\")\n"
   ]
  },
  {
   "cell_type": "code",
   "execution_count": 2,
   "id": "2a4bfd92",
   "metadata": {},
   "outputs": [
    {
     "name": "stdout",
     "output_type": "stream",
     "text": [
      "siri\n",
      "the input is lowercase\n"
     ]
    }
   ],
   "source": [
    "# 2. Write a program to check whether the given input is digit or lowercase character\n",
    "# or uppercase \n",
    "a=input()\n",
    "if a.isdigit():\n",
    "     print(\"the input is digit\")\n",
    "elif a.islower():\n",
    "     print(\"the input is lowercase\")\n",
    "elif a.isupper():\n",
    "     print(\"the input is uppercase\")\n",
    "else:\n",
    "    print(\"a special character\")\n"
   ]
  },
  {
   "cell_type": "code",
   "execution_count": 4,
   "id": "e2701189",
   "metadata": {},
   "outputs": [
    {
     "name": "stdout",
     "output_type": "stream",
     "text": [
      "enter the# 3. Python Program t number5\n",
      "0 1 1 2 3 5 8 "
     ]
    }
   ],
   "source": [
    "# 3. Python Program to Print the Fibonacci sequence using while loop\n",
    "n=int(input(\"enter the# 3. Python Program t number\"))\n",
    "a=0\n",
    "b=1\n",
    "i=0\n",
    "print(a,end=\" \")\n",
    "while(i<=n):\n",
    "    i=i+1\n",
    "    a,b=b,a+b\n",
    "    print(a,end=\" \")\n",
    "    "
   ]
  },
  {
   "cell_type": "code",
   "execution_count": 5,
   "id": "1668f61b",
   "metadata": {},
   "outputs": [
    {
     "name": "stdout",
     "output_type": "stream",
     "text": [
      "enter the number66\n",
      "2 3 5 7 11 13 17 19 23 29 31 37 41 43 47 53 59 61 "
     ]
    }
   ],
   "source": [
    "# 4. Python program to print all prime numbers in a given interval (use break)\n",
    "n=int(input(\"enter the number\"))\n",
    "for i in range(2,n,1):\n",
    "    for j in range(2,i,1):\n",
    "        if(i%j==0):\n",
    "            break;\n",
    "    else:\n",
    "        print(i,end=\" \")"
   ]
  },
  {
   "cell_type": "code",
   "execution_count": 7,
   "id": "7eb0286f",
   "metadata": {},
   "outputs": [
    {
     "name": "stdout",
     "output_type": "stream",
     "text": [
      "enter the number12\n",
      "enter the number52\n",
      "the lcm of the two numbers is:\n",
      "156.0\n"
     ]
    }
   ],
   "source": [
    "# 5. Write a program to compute LCM of two numbers by taking input from the user\n",
    "m=int(input(\"enter the number\"))\n",
    "n=int(input(\"enter the number\"))\n",
    "print(\"the lcm of the two numbers is:\")\n",
    "r=m if m>n else n\n",
    "k=1\n",
    "for i in range(1,r,1):\n",
    "      if(n%i==0 and m%i==0):\n",
    "          k=i\n",
    "print(n*m/k)        "
   ]
  },
  {
   "cell_type": "code",
   "execution_count": 9,
   "id": "acbe5163",
   "metadata": {},
   "outputs": [
    {
     "name": "stdout",
     "output_type": "stream",
     "text": [
      "compound interest: 7834.778255616755\n"
     ]
    }
   ],
   "source": [
    "# 6. Write a program add.py that takes 2 numbers as command line arguments and\n",
    "# prints its sum\n",
    "p=10000\n",
    "t=2\n",
    "r=3/10\n",
    "n=4\n",
    "a=(1+r/n)\n",
    "n=n*t\n",
    "a=a**n\n",
    "a=a*p\n",
    "# a=p(1+r/n)^nt formula\n",
    "print(\"compound interest:\",a-p)"
   ]
  },
  {
   "cell_type": "code",
   "execution_count": null,
   "id": "43871d69",
   "metadata": {},
   "outputs": [],
   "source": []
  }
 ],
 "metadata": {
  "kernelspec": {
   "display_name": "Python 3 (ipykernel)",
   "language": "python",
   "name": "python3"
  },
  "language_info": {
   "codemirror_mode": {
    "name": "ipython",
    "version": 3
   },
   "file_extension": ".py",
   "mimetype": "text/x-python",
   "name": "python",
   "nbconvert_exporter": "python",
   "pygments_lexer": "ipython3",
   "version": "3.9.12"
  }
 },
 "nbformat": 4,
 "nbformat_minor": 5
}
